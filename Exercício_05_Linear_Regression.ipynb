{
  "nbformat": 4,
  "nbformat_minor": 0,
  "metadata": {
    "colab": {
      "name": "Exercício 05 - Linear Regression",
      "provenance": []
    },
    "kernelspec": {
      "name": "python3",
      "display_name": "Python 3"
    },
    "language_info": {
      "name": "python"
    }
  },
  "cells": [
    {
      "cell_type": "markdown",
      "metadata": {
        "id": "ZoCuZoI9HLm-"
      },
      "source": [
        " **TÓPICOS AVANÇADOS EM INFORMÁTICA II**\n",
        "\n",
        "  Prof. Helton Maia\n",
        "\n",
        " Aluna: [Júlia Neves Guardiani](https://gitlab.com/juguardiani), 20200000705\n",
        "\n",
        "*Curso de Deep Learning para Visão Computacional*\n",
        "\n",
        " Escola de Ciências e Tecnologia  - DCA\n",
        "\n",
        "UFRN - 2021.1\n"
      ]
    },
    {
      "cell_type": "markdown",
      "metadata": {
        "id": "9Evvh6pUHR77"
      },
      "source": [
        "**Exercício 05 - Linear Regression**"
      ]
    },
    {
      "cell_type": "code",
      "metadata": {
        "colab": {
          "base_uri": "https://localhost:8080/",
          "height": 282
        },
        "id": "1me9bKAdHIkU",
        "outputId": "a2d24c01-3542-4a60-a3f8-c13e39581968"
      },
      "source": [
        "import numpy as np\n",
        "import matplotlib.pyplot as plt\n",
        "\n",
        "x=np.arange(1,100)\n",
        "y=np.random.normal(x+2,10) \n",
        "                         \n",
        "w= 0; b=0  \n",
        "y_predict  = w*x+b #equacao da reta que virou equacao do neuronio                       \n",
        "plt.plot(x,y,\".\")\n",
        "plt.plot(x,y_predict,'r-') "
      ],
      "execution_count": 1,
      "outputs": [
        {
          "output_type": "execute_result",
          "data": {
            "text/plain": [
              "[<matplotlib.lines.Line2D at 0x7f2b518a9d90>]"
            ]
          },
          "metadata": {
            "tags": []
          },
          "execution_count": 1
        },
        {
          "output_type": "display_data",
          "data": {
            "image/png": "[encoded data removed]",
            "text/plain": [
              "<Figure size 432x288 with 1 Axes>"
            ]
          },
          "metadata": {
            "tags": [],
            "needs_background": "light"
          }
        }
      ]
    },
    {
      "cell_type": "code",
      "metadata": {
        "id": "HFdysP4ZHnnZ"
      },
      "source": [
        "#Função para cálculo do gradiente\n",
        "N= len(x)\n",
        "\n",
        "\n",
        "alpha = 0.5\n",
        "tolerance = 1e-5\n",
        "numIterations= 100000\n",
        "\n",
        "error=(1/N)*(np.sum((y-(w*x+b))**2))\n",
        "epm=(2/N)*((-x)*(np.sum((y-(w*x+b)))))\n",
        "epb=(2/N)*((-1)*(np.sum((y-(w*x+b)))))\n"
      ],
      "execution_count": 5,
      "outputs": []
    }
  ]
}