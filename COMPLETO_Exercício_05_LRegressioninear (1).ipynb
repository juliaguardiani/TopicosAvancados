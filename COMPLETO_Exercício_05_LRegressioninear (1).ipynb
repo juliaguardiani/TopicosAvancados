{
  "nbformat": 4,
  "nbformat_minor": 0,
  "metadata": {
    "colab": {
      "name": "COMPLETO Exercício 05 - LRegressioninear ",
      "provenance": [],
      "collapsed_sections": []
    },
    "kernelspec": {
      "name": "python3",
      "display_name": "Python 3"
    },
    "language_info": {
      "name": "python"
    }
  },
  "cells": [
    {
      "cell_type": "markdown",
      "metadata": {
        "id": "ZdAvOFveVjq-"
      },
      "source": [
        " **TÓPICOS AVANÇADOS EM INFORMÁTICA II**\n",
        "\n",
        "  Prof. Helton Maia\n",
        "\n",
        " Aluna: [Júlia Neves Guardiani](https://gitlab.com/juguardiani), 20200000705\n",
        "\n",
        "*Curso de Deep Learning para Visão Computacional*\n",
        "\n",
        " Escola de Ciências e Tecnologia  - DCA\n",
        "\n",
        "UFRN - 2021.1"
      ]
    },
    {
      "cell_type": "markdown",
      "metadata": {
        "id": "Fa8BaredVmM1"
      },
      "source": [
        "**Exercício 05 - Linear Regression**"
      ]
    },
    {
      "cell_type": "code",
      "metadata": {
        "id": "Hy0hqwJRVEHm"
      },
      "source": [
        "#Importações necessárias\n",
        "from IPython.display import clear_output\n",
        "import numpy as np\n",
        "import matplotlib.pyplot as plt\n",
        "import time"
      ],
      "execution_count": 2,
      "outputs": []
    },
    {
      "cell_type": "markdown",
      "metadata": {
        "id": "RY5fZ8wCWnDK"
      },
      "source": [
        "- Gere inicialmente uma sequência de 100 pontos, onde seja possível notar uma\n",
        "tendência positiva;"
      ]
    },
    {
      "cell_type": "code",
      "metadata": {
        "colab": {
          "base_uri": "https://localhost:8080/",
          "height": 282
        },
        "id": "vYTYrKA4WPZJ",
        "outputId": "7796f5e8-f24e-4a27-8983-8f4960c0d1da"
      },
      "source": [
        "x=np.arange(1,100)\n",
        "y=np.random.normal(x+2,10) \n",
        "plt.plot(x,y,\".\")"
      ],
      "execution_count": 6,
      "outputs": [
        {
          "output_type": "execute_result",
          "data": {
            "text/plain": [
              "[<matplotlib.lines.Line2D at 0x7f8a3b0ffd10>]"
            ]
          },
          "metadata": {
            "tags": []
          },
          "execution_count": 6
        },
        {
          "output_type": "display_data",
          "data": {
            "image/png": "[encoded data removed]",
            "text/plain": [
              "<Figure size 432x288 with 1 Axes>"
            ]
          },
          "metadata": {
            "tags": [],
            "needs_background": "light"
          }
        }
      ]
    },
    {
      "cell_type": "markdown",
      "metadata": {
        "id": "-cisGqZOXN7b"
      },
      "source": [
        "- Escreva uma função para calcular o erro médio quadrático, baseada na Eq. 1"
      ]
    },
    {
      "cell_type": "code",
      "metadata": {
        "id": "iJMqgZCbXR7O"
      },
      "source": [
        "#fórmula dada: error=(1/N)*(np.sum((y-(w*x+b))**2))\n",
        "N=len(x)\n",
        "def error(w, b, x, y):\n",
        "  return (1/N)*np.sum((y - (w*x+b))**2)"
      ],
      "execution_count": 20,
      "outputs": []
    },
    {
      "cell_type": "markdown",
      "metadata": {
        "id": "7dSnpkeVYbZs"
      },
      "source": [
        "- Escreva uma função para cálculo do gradiente e seus respectivos ajustes das\n",
        "variáveis envolvidas utilizando Eq. 2 e Eq. 3;"
      ]
    },
    {
      "cell_type": "code",
      "metadata": {
        "id": "irrWdzN_X5q6"
      },
      "source": [
        "#eq1=(2/N)*((-x)*(np.sum((y-(w*x+b)))))\n",
        "#eq2=(2/N)*((-1)*(np.sum((y-(w*x+b)))))\n",
        "\n",
        "def flinear(x, w, b):\n",
        "  return w*x+b\n",
        "\n",
        "def gradiente(x,y, epochs):\n",
        "  w= 0; b=0  \n",
        "  l = 0.0001\n",
        "\n",
        "  for i in range(epochs):\n",
        "    eq1= (2/N)*((-x)*(np.sum((y-(w*x+b)))))\n",
        "    eq2 = (2/N)*((-1)*(np.sum((y-(w*x+b)))))\n",
        "\n",
        "    w = w - l * eq1\n",
        "    b = b - l * eq2\n",
        "\n",
        "    erro = error(w,b,x,y)\n",
        "\n",
        "    plt.title(\"Valores Finais (época 500000)\")\n",
        "    plt.plot(x,y,'.')\n",
        "    plt.plot(x,flinear(x, w, b),'r-')\n",
        "   \n",
        "    plt.figtext(.15, .65, \"w = {:.4f}\\nb = {:.4g}\\nMSE = {:.4g}\".format(w, b, erro))\n",
        "    plt.show()\n",
        "    clear_output(wait=True)"
      ],
      "execution_count": 26,
      "outputs": []
    },
    {
      "cell_type": "markdown",
      "metadata": {
        "id": "JeyLZRlDa7SV"
      },
      "source": [
        "- Utilizando o matplotlib, deve-se plotar inicialmente o diagrama de dispersão dos pontos e a reta em sua posição inicial."
      ]
    },
    {
      "cell_type": "code",
      "metadata": {
        "colab": {
          "base_uri": "https://localhost:8080/",
          "height": 281
        },
        "id": "_CbOdwO-bJLg",
        "outputId": "ae229e90-5b91-4474-c5c2-289a1ec12e0a"
      },
      "source": [
        "plt.plot(x,y,'.')\n",
        "plt.plot(x, flinear(x,0,0), '-r')\n",
        "plt.title(\"Valores Iniciais (época 0) \")\n",
        "plt.show()"
      ],
      "execution_count": 10,
      "outputs": [
        {
          "output_type": "display_data",
          "data": {
            "image/png": "[encoded data removed]",
            "text/plain": [
              "<Figure size 432x288 with 1 Axes>"
            ]
          },
          "metadata": {
            "tags": [],
            "needs_background": "light"
          }
        }
      ]
    },
    {
      "cell_type": "markdown",
      "metadata": {
        "id": "kCmJtl1Qe66A"
      },
      "source": [
        "*  Extra:\n",
        " Tente fazer o update do gráfico em tempo real para que seja possível visualizar\n",
        "a convergência acontecendo"
      ]
    },
    {
      "cell_type": "code",
      "metadata": {
        "colab": {
          "base_uri": "https://localhost:8080/",
          "height": 265
        },
        "id": "NB23XoeSgwFi",
        "outputId": "ca7dec1f-0fb6-4beb-cc05-ee5b3fe55488"
      },
      "source": [
        "gradiente(x,y, 500)"
      ],
      "execution_count": 32,
      "outputs": [
        {
          "output_type": "display_data",
          "data": {
            "image/png": "[encoded data removed]",
            "text/plain": [
              "<Figure size 432x288 with 1 Axes>"
            ]
          },
          "metadata": {
            "tags": [],
            "needs_background": "light"
          }
        }
      ]
    },
    {
      "cell_type": "markdown",
      "metadata": {
        "id": "5plG-jUog-f8"
      },
      "source": [
        "*  Referência:\n",
        "\n",
        "\n",
        "\n",
        "`https://stackoverflow.com/questions/17784587/gradient-descent-using-python-and-numpy`"
      ]
    }
  ]
}